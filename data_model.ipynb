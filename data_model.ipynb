{
 "cells": [
  {
   "cell_type": "code",
   "execution_count": 1,
   "metadata": {},
   "outputs": [
    {
     "name": "stdout",
     "output_type": "stream",
     "text": [
      "Collecting psycopg2\n",
      "  Downloading psycopg2-2.9.6-cp311-cp311-win_amd64.whl (1.2 MB)\n",
      "                                              0.0/1.2 MB ? eta -:--:--\n",
      "     -                                        0.0/1.2 MB 1.3 MB/s eta 0:00:01\n",
      "     -                                        0.0/1.2 MB 1.3 MB/s eta 0:00:01\n",
      "     -                                        0.0/1.2 MB 1.3 MB/s eta 0:00:01\n",
      "     -                                        0.0/1.2 MB 1.3 MB/s eta 0:00:01\n",
      "     -                                        0.0/1.2 MB 1.3 MB/s eta 0:00:01\n",
      "     -                                        0.0/1.2 MB 1.3 MB/s eta 0:00:01\n",
      "     -                                        0.0/1.2 MB 1.3 MB/s eta 0:00:01\n",
      "     ---                                      0.1/1.2 MB 291.5 kB/s eta 0:00:04\n",
      "     ---                                      0.1/1.2 MB 291.5 kB/s eta 0:00:04\n",
      "     ---                                      0.1/1.2 MB 291.5 kB/s eta 0:00:04\n",
      "     ---                                      0.1/1.2 MB 291.5 kB/s eta 0:00:04\n",
      "     ---                                      0.1/1.2 MB 291.5 kB/s eta 0:00:04\n",
      "     ---                                      0.1/1.2 MB 291.5 kB/s eta 0:00:04\n",
      "     ---                                      0.1/1.2 MB 291.5 kB/s eta 0:00:04\n",
      "     ---                                      0.1/1.2 MB 291.5 kB/s eta 0:00:04\n",
      "     ---                                      0.1/1.2 MB 291.5 kB/s eta 0:00:04\n",
      "     ----                                     0.1/1.2 MB 184.7 kB/s eta 0:00:06\n",
      "     -----                                    0.2/1.2 MB 262.1 kB/s eta 0:00:04\n",
      "     -----                                    0.2/1.2 MB 262.1 kB/s eta 0:00:04\n",
      "     ------                                   0.2/1.2 MB 256.4 kB/s eta 0:00:04\n",
      "     ------                                   0.2/1.2 MB 256.4 kB/s eta 0:00:04\n",
      "     ------                                   0.2/1.2 MB 256.4 kB/s eta 0:00:04\n",
      "     ------                                   0.2/1.2 MB 256.4 kB/s eta 0:00:04\n",
      "     ------                                   0.2/1.2 MB 256.4 kB/s eta 0:00:04\n",
      "     -------                                  0.2/1.2 MB 237.3 kB/s eta 0:00:04\n",
      "     -------                                  0.2/1.2 MB 237.3 kB/s eta 0:00:04\n",
      "     --------                                 0.2/1.2 MB 243.1 kB/s eta 0:00:04\n",
      "     --------                                 0.2/1.2 MB 243.1 kB/s eta 0:00:04\n",
      "     --------                                 0.2/1.2 MB 243.1 kB/s eta 0:00:04\n",
      "     --------                                 0.2/1.2 MB 243.1 kB/s eta 0:00:04\n",
      "     --------                                 0.2/1.2 MB 243.1 kB/s eta 0:00:04\n",
      "     --------                                 0.2/1.2 MB 243.1 kB/s eta 0:00:04\n",
      "     --------                                 0.2/1.2 MB 243.1 kB/s eta 0:00:04\n",
      "     --------                                 0.2/1.2 MB 243.1 kB/s eta 0:00:04\n",
      "     --------                                 0.2/1.2 MB 243.1 kB/s eta 0:00:04\n",
      "     --------                                 0.2/1.2 MB 243.1 kB/s eta 0:00:04\n",
      "     --------                                 0.2/1.2 MB 243.1 kB/s eta 0:00:04\n",
      "     --------                                 0.2/1.2 MB 243.1 kB/s eta 0:00:04\n",
      "     --------                                 0.2/1.2 MB 243.1 kB/s eta 0:00:04\n",
      "     ---------                                0.3/1.2 MB 178.0 kB/s eta 0:00:06\n",
      "     ---------                                0.3/1.2 MB 178.0 kB/s eta 0:00:06\n",
      "     ---------                                0.3/1.2 MB 178.0 kB/s eta 0:00:06\n",
      "     ---------                                0.3/1.2 MB 178.0 kB/s eta 0:00:06\n",
      "     ---------                                0.3/1.2 MB 178.0 kB/s eta 0:00:06\n",
      "     -----------                              0.3/1.2 MB 209.9 kB/s eta 0:00:04\n",
      "     -----------                              0.3/1.2 MB 209.9 kB/s eta 0:00:04\n",
      "     -----------                              0.3/1.2 MB 209.9 kB/s eta 0:00:04\n",
      "     -------------                            0.4/1.2 MB 210.7 kB/s eta 0:00:04\n",
      "     -------------                            0.4/1.2 MB 218.5 kB/s eta 0:00:04\n",
      "     -------------                            0.4/1.2 MB 218.5 kB/s eta 0:00:04\n",
      "     --------------                           0.4/1.2 MB 214.7 kB/s eta 0:00:04\n",
      "     --------------                           0.4/1.2 MB 222.0 kB/s eta 0:00:04\n",
      "     --------------                           0.4/1.2 MB 222.0 kB/s eta 0:00:04\n",
      "     --------------                           0.4/1.2 MB 222.0 kB/s eta 0:00:04\n",
      "     ---------------                          0.5/1.2 MB 220.2 kB/s eta 0:00:04\n",
      "     ---------------                          0.5/1.2 MB 220.2 kB/s eta 0:00:04\n",
      "     ---------------                          0.5/1.2 MB 220.2 kB/s eta 0:00:04\n",
      "     ---------------                          0.5/1.2 MB 220.2 kB/s eta 0:00:04\n",
      "     ---------------                          0.5/1.2 MB 220.2 kB/s eta 0:00:04\n",
      "     ---------------                          0.5/1.2 MB 220.2 kB/s eta 0:00:04\n",
      "     ---------------                          0.5/1.2 MB 220.2 kB/s eta 0:00:04\n",
      "     ---------------                          0.5/1.2 MB 220.2 kB/s eta 0:00:04\n",
      "     ---------------                          0.5/1.2 MB 220.2 kB/s eta 0:00:04\n",
      "     ---------------                          0.5/1.2 MB 220.2 kB/s eta 0:00:04\n",
      "     -----------------                        0.5/1.2 MB 211.3 kB/s eta 0:00:04\n",
      "     ------------------                       0.5/1.2 MB 221.3 kB/s eta 0:00:03\n",
      "     ------------------                       0.5/1.2 MB 221.3 kB/s eta 0:00:03\n",
      "     ------------------                       0.5/1.2 MB 221.3 kB/s eta 0:00:03\n",
      "     -------------------                      0.6/1.2 MB 221.2 kB/s eta 0:00:03\n",
      "     -------------------                      0.6/1.2 MB 221.2 kB/s eta 0:00:03\n",
      "     -------------------                      0.6/1.2 MB 221.2 kB/s eta 0:00:03\n",
      "     --------------------                     0.6/1.2 MB 223.6 kB/s eta 0:00:03\n",
      "     --------------------                     0.6/1.2 MB 223.6 kB/s eta 0:00:03\n",
      "     --------------------                     0.6/1.2 MB 223.6 kB/s eta 0:00:03\n",
      "     --------------------                     0.6/1.2 MB 223.6 kB/s eta 0:00:03\n",
      "     --------------------                     0.6/1.2 MB 223.6 kB/s eta 0:00:03\n",
      "     --------------------                     0.6/1.2 MB 223.6 kB/s eta 0:00:03\n",
      "     --------------------                     0.6/1.2 MB 223.6 kB/s eta 0:00:03\n",
      "     --------------------                     0.6/1.2 MB 223.6 kB/s eta 0:00:03\n",
      "     ----------------------                   0.7/1.2 MB 219.6 kB/s eta 0:00:03\n",
      "     -----------------------                  0.7/1.2 MB 224.2 kB/s eta 0:00:03\n",
      "     -----------------------                  0.7/1.2 MB 224.2 kB/s eta 0:00:03\n",
      "     -----------------------                  0.7/1.2 MB 226.4 kB/s eta 0:00:03\n",
      "     ------------------------                 0.7/1.2 MB 226.2 kB/s eta 0:00:03\n",
      "     ------------------------                 0.7/1.2 MB 226.2 kB/s eta 0:00:03\n",
      "     ------------------------                 0.7/1.2 MB 226.2 kB/s eta 0:00:03\n",
      "     -------------------------                0.7/1.2 MB 229.2 kB/s eta 0:00:02\n",
      "     -------------------------                0.7/1.2 MB 229.2 kB/s eta 0:00:02\n",
      "     -------------------------                0.7/1.2 MB 229.2 kB/s eta 0:00:02\n",
      "     -------------------------                0.7/1.2 MB 229.2 kB/s eta 0:00:02\n",
      "     -------------------------                0.7/1.2 MB 229.2 kB/s eta 0:00:02\n",
      "     --------------------------               0.8/1.2 MB 223.5 kB/s eta 0:00:02\n",
      "     ----------------------------             0.8/1.2 MB 243.5 kB/s eta 0:00:02\n",
      "     ----------------------------             0.8/1.2 MB 243.5 kB/s eta 0:00:02\n",
      "     ----------------------------             0.8/1.2 MB 243.5 kB/s eta 0:00:02\n",
      "     -----------------------------            0.9/1.2 MB 245.8 kB/s eta 0:00:02\n",
      "     -----------------------------            0.9/1.2 MB 245.8 kB/s eta 0:00:02\n",
      "     -----------------------------            0.9/1.2 MB 245.8 kB/s eta 0:00:02\n",
      "     -----------------------------            0.9/1.2 MB 245.8 kB/s eta 0:00:02\n",
      "     -----------------------------            0.9/1.2 MB 245.8 kB/s eta 0:00:02\n",
      "     -----------------------------            0.9/1.2 MB 245.8 kB/s eta 0:00:02\n",
      "     -----------------------------            0.9/1.2 MB 245.8 kB/s eta 0:00:02\n",
      "     -----------------------------            0.9/1.2 MB 245.8 kB/s eta 0:00:02\n",
      "     ---------------------------------        1.0/1.2 MB 254.6 kB/s eta 0:00:01\n",
      "     ---------------------------------        1.0/1.2 MB 254.6 kB/s eta 0:00:01\n",
      "     ---------------------------------        1.0/1.2 MB 252.0 kB/s eta 0:00:01\n",
      "     ---------------------------------        1.0/1.2 MB 252.0 kB/s eta 0:00:01\n",
      "     ---------------------------------        1.0/1.2 MB 252.0 kB/s eta 0:00:01\n",
      "     ---------------------------------        1.0/1.2 MB 252.0 kB/s eta 0:00:01\n",
      "     ---------------------------------        1.0/1.2 MB 252.0 kB/s eta 0:00:01\n",
      "     ---------------------------------        1.0/1.2 MB 252.0 kB/s eta 0:00:01\n",
      "     ---------------------------------        1.0/1.2 MB 252.0 kB/s eta 0:00:01\n",
      "     ---------------------------------        1.0/1.2 MB 252.0 kB/s eta 0:00:01\n",
      "     ---------------------------------        1.0/1.2 MB 252.0 kB/s eta 0:00:01\n",
      "     ----------------------------------       1.0/1.2 MB 236.3 kB/s eta 0:00:01\n",
      "     -------------------------------------    1.1/1.2 MB 253.0 kB/s eta 0:00:01\n",
      "     --------------------------------------   1.1/1.2 MB 257.8 kB/s eta 0:00:01\n",
      "     --------------------------------------   1.1/1.2 MB 258.3 kB/s eta 0:00:01\n",
      "     --------------------------------------   1.1/1.2 MB 258.3 kB/s eta 0:00:01\n",
      "     ---------------------------------------  1.1/1.2 MB 256.5 kB/s eta 0:00:01\n",
      "     ---------------------------------------  1.1/1.2 MB 256.5 kB/s eta 0:00:01\n",
      "     ---------------------------------------- 1.2/1.2 MB 257.6 kB/s eta 0:00:00\n",
      "Installing collected packages: psycopg2\n",
      "Successfully installed psycopg2-2.9.6\n",
      "Note: you may need to restart the kernel to use updated packages.\n"
     ]
    }
   ],
   "source": [
    "pip install psycopg2"
   ]
  },
  {
   "cell_type": "code",
   "execution_count": 1,
   "metadata": {},
   "outputs": [],
   "source": [
    "import psycopg2"
   ]
  },
  {
   "attachments": {},
   "cell_type": "markdown",
   "metadata": {},
   "source": [
    "Create a connection to the database"
   ]
  },
  {
   "cell_type": "code",
   "execution_count": 2,
   "metadata": {},
   "outputs": [],
   "source": [
    "try:\n",
    "    conn=psycopg2.connect(\"host=127.0.0.1 dbname=postgres user=postgres password=root\")\n",
    "except psycopg2.Error as e:\n",
    "    print(\"error, Couldnt make conections to the posgress database\")\n",
    "    print(e)"
   ]
  },
  {
   "attachments": {},
   "cell_type": "markdown",
   "metadata": {},
   "source": [
    "use the connection to get the cursor that can used to execute queries"
   ]
  },
  {
   "cell_type": "code",
   "execution_count": 3,
   "metadata": {},
   "outputs": [],
   "source": [
    "try:\n",
    "    cur= conn.cursor()\n",
    "except psycopg2.Error as e:\n",
    "    print(\"Error: couldn't get cursor to the Database\")\n",
    "    print(e)"
   ]
  },
  {
   "attachments": {},
   "cell_type": "markdown",
   "metadata": {},
   "source": [
    "set automatic commit to be true so that each action is commited without having to conn.commit() after each command"
   ]
  },
  {
   "cell_type": "code",
   "execution_count": 4,
   "metadata": {},
   "outputs": [],
   "source": [
    "conn.set_session(autocommit=True)"
   ]
  },
  {
   "attachments": {},
   "cell_type": "markdown",
   "metadata": {},
   "source": [
    "create a databse to do the work in"
   ]
  },
  {
   "cell_type": "code",
   "execution_count": 5,
   "metadata": {},
   "outputs": [],
   "source": [
    "try:\n",
    "    cur.execute(\"create database myfirstdb\")\n",
    "except psycopg2.Error as e:\n",
    "    print(\"couldnt create database\")\n",
    "    print(e)"
   ]
  },
  {
   "attachments": {},
   "cell_type": "markdown",
   "metadata": {},
   "source": [
    "add the database name in the connect statement . close the connection to the default database, reconnect to the udacity database, and get new cursor"
   ]
  },
  {
   "cell_type": "code",
   "execution_count": 6,
   "metadata": {},
   "outputs": [],
   "source": [
    "try:\n",
    "    conn.close()\n",
    "except psycopg2.Error as e:\n",
    "    print(e)\n",
    "\n",
    "try: \n",
    "    conn= psycopg2.connect(\"host=127.0.0.1 dbname=myfirstdb user=postgres password=root\")\n",
    "except psycopg2.Error as e :\n",
    "    print(\"Error: couldnt connect to the pg db\")\n",
    "    print(e)\n",
    "\n",
    "try:\n",
    "    cur=conn.cursor()\n",
    "except psycopg2.Error as e:\n",
    "    print(\"Error couldnt get cursor \")\n",
    "    print(e)\n",
    "\n",
    "\n",
    "conn.set_session(autocommit=True)"
   ]
  },
  {
   "attachments": {},
   "cell_type": "markdown",
   "metadata": {},
   "source": [
    "create Table for students which includes the columns"
   ]
  },
  {
   "cell_type": "code",
   "execution_count": 7,
   "metadata": {},
   "outputs": [],
   "source": [
    "try:\n",
    "    cur.execute(\"Create Table if not exists students(student_id int, name varchar, age int,\\\n",
    "                gender varchar, subject varchar, marks int);\")\n",
    "except psycopg2.Error as e:\n",
    "    print(\"Error : isssue creating table\")\n",
    "    print(e)"
   ]
  },
  {
   "attachments": {},
   "cell_type": "markdown",
   "metadata": {},
   "source": [
    "insert the rows"
   ]
  },
  {
   "cell_type": "code",
   "execution_count": 8,
   "metadata": {},
   "outputs": [],
   "source": [
    "try: \n",
    "    cur.execute(\"insert into students(student_id, name, age, gender, subject, marks)\\\n",
    "                values(%s,%s,%s,%s,%s,%s)\",\\\n",
    "                    (1,\"Raj\",23,\"Male\", \"Python\",85))\n",
    "    \n",
    "except psycopg2.Error as e:\n",
    "    print(\"Error: could not insert \")\n",
    "    print (e)"
   ]
  },
  {
   "cell_type": "code",
   "execution_count": 9,
   "metadata": {},
   "outputs": [
    {
     "name": "stdout",
     "output_type": "stream",
     "text": [
      "(1, 'Raj', 23, 'Male', 'Python', 85)\n"
     ]
    }
   ],
   "source": [
    "try:\n",
    "    cur.execute(\"select * from students;\")\n",
    "except psycopg2.Error as e:\n",
    "    print(e)\n",
    "\n",
    "\n",
    "row= cur.fetchone()\n",
    "while row:\n",
    "    print(row)\n",
    "    row=cur.fetchone()"
   ]
  },
  {
   "cell_type": "code",
   "execution_count": null,
   "metadata": {},
   "outputs": [],
   "source": [
    "cur.close()\n",
    "conn.close()"
   ]
  }
 ],
 "metadata": {
  "kernelspec": {
   "display_name": "Python 3",
   "language": "python",
   "name": "python3"
  },
  "language_info": {
   "codemirror_mode": {
    "name": "ipython",
    "version": 3
   },
   "file_extension": ".py",
   "mimetype": "text/x-python",
   "name": "python",
   "nbconvert_exporter": "python",
   "pygments_lexer": "ipython3",
   "version": "3.11.3"
  },
  "orig_nbformat": 4
 },
 "nbformat": 4,
 "nbformat_minor": 2
}
